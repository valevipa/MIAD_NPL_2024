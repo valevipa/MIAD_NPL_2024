{
  "cells": [
    {
      "cell_type": "markdown",
      "metadata": {
        "id": "vRKFcMDaLdsO"
      },
      "source": [
        "![image info](https://raw.githubusercontent.com/albahnsen/MIAD_ML_and_NLP/main/images/banner_1.png)"
      ]
    },
    {
      "cell_type": "markdown",
      "metadata": {
        "id": "xch_317pLdsQ"
      },
      "source": [
        "# Taller: Construcción e implementación de árboles de decisión y métodos de ensamblaje\n",
        "\n",
        "En este taller podrá poner en práctica los sus conocimientos sobre construcción e implementación de árboles de decisión y métodos de ensamblajes. El taller está constituido por 9 puntos, 5 relacionados con árboles de decisión (parte A) y 4 con métodos de ensamblaje (parte B)."
      ]
    },
    {
      "cell_type": "markdown",
      "metadata": {
        "id": "pQhn_UMcLdsR"
      },
      "source": [
        "## Parte A - Árboles de decisión\n",
        "\n",
        "En esta parte del taller se usará el conjunto de datos de Capital Bikeshare de Kaggle, donde cada observación representa el alquiler de bicicletas durante una hora y día determinado. Para más detalles puede visitar los siguientes enlaces: [datos](https://archive.ics.uci.edu/ml/machine-learning-databases/00275/Bike-Sharing-Dataset.zip), [dicccionario de datos](https://archive.ics.uci.edu/ml/datasets/Bike+Sharing+Dataset#)."
      ]
    },
    {
      "cell_type": "markdown",
      "metadata": {
        "id": "5oBkxeGbLdsS"
      },
      "source": [
        "### Datos prestamo de bicicletas"
      ]
    },
    {
      "cell_type": "code",
      "execution_count": 7,
      "metadata": {
        "id": "ky-McW-dLdsS"
      },
      "outputs": [],
      "source": [
        "import warnings\n",
        "warnings.filterwarnings('ignore')"
      ]
    },
    {
      "cell_type": "code",
      "execution_count": 25,
      "metadata": {
        "id": "zDjVfOQXLdsT"
      },
      "outputs": [],
      "source": [
        "# Importación de librerías\n",
        "%matplotlib inline\n",
        "import pandas as pd\n",
        "import numpy as np\n",
        "import matplotlib.pyplot as plt\n",
        "from sklearn.model_selection import cross_val_score\n",
        "from sklearn.linear_model import LinearRegression\n",
        "from sklearn.tree import DecisionTreeRegressor, export_graphviz\n",
        "from sklearn.tree import DecisionTreeClassifier\n",
        "from sklearn.linear_model import LogisticRegression\n",
        "from sklearn import metrics\n",
        "from sklearn.ensemble import BaggingClassifier"
      ]
    },
    {
      "cell_type": "code",
      "execution_count": 9,
      "metadata": {
        "colab": {
          "base_uri": "https://localhost:8080/",
          "height": 237
        },
        "id": "HphuDhqdLdsT",
        "outputId": "5533d90f-db66-41d6-ca5a-c3244d7dd978"
      },
      "outputs": [
        {
          "output_type": "execute_result",
          "data": {
            "text/plain": [
              "                     season  holiday  workingday  weather  temp   atemp  \\\n",
              "datetime                                                                  \n",
              "2011-01-01 00:00:00       1        0           0        1  9.84  14.395   \n",
              "2011-01-01 01:00:00       1        0           0        1  9.02  13.635   \n",
              "2011-01-01 02:00:00       1        0           0        1  9.02  13.635   \n",
              "2011-01-01 03:00:00       1        0           0        1  9.84  14.395   \n",
              "2011-01-01 04:00:00       1        0           0        1  9.84  14.395   \n",
              "\n",
              "                     humidity  windspeed  casual  registered  total  hour  \n",
              "datetime                                                                   \n",
              "2011-01-01 00:00:00        81        0.0       3          13     16     0  \n",
              "2011-01-01 01:00:00        80        0.0       8          32     40     1  \n",
              "2011-01-01 02:00:00        80        0.0       5          27     32     2  \n",
              "2011-01-01 03:00:00        75        0.0       3          10     13     3  \n",
              "2011-01-01 04:00:00        75        0.0       0           1      1     4  "
            ],
            "text/html": [
              "\n",
              "  <div id=\"df-3ccf0051-a575-43c2-be6f-52379d2a3ef1\" class=\"colab-df-container\">\n",
              "    <div>\n",
              "<style scoped>\n",
              "    .dataframe tbody tr th:only-of-type {\n",
              "        vertical-align: middle;\n",
              "    }\n",
              "\n",
              "    .dataframe tbody tr th {\n",
              "        vertical-align: top;\n",
              "    }\n",
              "\n",
              "    .dataframe thead th {\n",
              "        text-align: right;\n",
              "    }\n",
              "</style>\n",
              "<table border=\"1\" class=\"dataframe\">\n",
              "  <thead>\n",
              "    <tr style=\"text-align: right;\">\n",
              "      <th></th>\n",
              "      <th>season</th>\n",
              "      <th>holiday</th>\n",
              "      <th>workingday</th>\n",
              "      <th>weather</th>\n",
              "      <th>temp</th>\n",
              "      <th>atemp</th>\n",
              "      <th>humidity</th>\n",
              "      <th>windspeed</th>\n",
              "      <th>casual</th>\n",
              "      <th>registered</th>\n",
              "      <th>total</th>\n",
              "      <th>hour</th>\n",
              "    </tr>\n",
              "    <tr>\n",
              "      <th>datetime</th>\n",
              "      <th></th>\n",
              "      <th></th>\n",
              "      <th></th>\n",
              "      <th></th>\n",
              "      <th></th>\n",
              "      <th></th>\n",
              "      <th></th>\n",
              "      <th></th>\n",
              "      <th></th>\n",
              "      <th></th>\n",
              "      <th></th>\n",
              "      <th></th>\n",
              "    </tr>\n",
              "  </thead>\n",
              "  <tbody>\n",
              "    <tr>\n",
              "      <th>2011-01-01 00:00:00</th>\n",
              "      <td>1</td>\n",
              "      <td>0</td>\n",
              "      <td>0</td>\n",
              "      <td>1</td>\n",
              "      <td>9.84</td>\n",
              "      <td>14.395</td>\n",
              "      <td>81</td>\n",
              "      <td>0.0</td>\n",
              "      <td>3</td>\n",
              "      <td>13</td>\n",
              "      <td>16</td>\n",
              "      <td>0</td>\n",
              "    </tr>\n",
              "    <tr>\n",
              "      <th>2011-01-01 01:00:00</th>\n",
              "      <td>1</td>\n",
              "      <td>0</td>\n",
              "      <td>0</td>\n",
              "      <td>1</td>\n",
              "      <td>9.02</td>\n",
              "      <td>13.635</td>\n",
              "      <td>80</td>\n",
              "      <td>0.0</td>\n",
              "      <td>8</td>\n",
              "      <td>32</td>\n",
              "      <td>40</td>\n",
              "      <td>1</td>\n",
              "    </tr>\n",
              "    <tr>\n",
              "      <th>2011-01-01 02:00:00</th>\n",
              "      <td>1</td>\n",
              "      <td>0</td>\n",
              "      <td>0</td>\n",
              "      <td>1</td>\n",
              "      <td>9.02</td>\n",
              "      <td>13.635</td>\n",
              "      <td>80</td>\n",
              "      <td>0.0</td>\n",
              "      <td>5</td>\n",
              "      <td>27</td>\n",
              "      <td>32</td>\n",
              "      <td>2</td>\n",
              "    </tr>\n",
              "    <tr>\n",
              "      <th>2011-01-01 03:00:00</th>\n",
              "      <td>1</td>\n",
              "      <td>0</td>\n",
              "      <td>0</td>\n",
              "      <td>1</td>\n",
              "      <td>9.84</td>\n",
              "      <td>14.395</td>\n",
              "      <td>75</td>\n",
              "      <td>0.0</td>\n",
              "      <td>3</td>\n",
              "      <td>10</td>\n",
              "      <td>13</td>\n",
              "      <td>3</td>\n",
              "    </tr>\n",
              "    <tr>\n",
              "      <th>2011-01-01 04:00:00</th>\n",
              "      <td>1</td>\n",
              "      <td>0</td>\n",
              "      <td>0</td>\n",
              "      <td>1</td>\n",
              "      <td>9.84</td>\n",
              "      <td>14.395</td>\n",
              "      <td>75</td>\n",
              "      <td>0.0</td>\n",
              "      <td>0</td>\n",
              "      <td>1</td>\n",
              "      <td>1</td>\n",
              "      <td>4</td>\n",
              "    </tr>\n",
              "  </tbody>\n",
              "</table>\n",
              "</div>\n",
              "    <div class=\"colab-df-buttons\">\n",
              "\n",
              "  <div class=\"colab-df-container\">\n",
              "    <button class=\"colab-df-convert\" onclick=\"convertToInteractive('df-3ccf0051-a575-43c2-be6f-52379d2a3ef1')\"\n",
              "            title=\"Convert this dataframe to an interactive table.\"\n",
              "            style=\"display:none;\">\n",
              "\n",
              "  <svg xmlns=\"http://www.w3.org/2000/svg\" height=\"24px\" viewBox=\"0 -960 960 960\">\n",
              "    <path d=\"M120-120v-720h720v720H120Zm60-500h600v-160H180v160Zm220 220h160v-160H400v160Zm0 220h160v-160H400v160ZM180-400h160v-160H180v160Zm440 0h160v-160H620v160ZM180-180h160v-160H180v160Zm440 0h160v-160H620v160Z\"/>\n",
              "  </svg>\n",
              "    </button>\n",
              "\n",
              "  <style>\n",
              "    .colab-df-container {\n",
              "      display:flex;\n",
              "      gap: 12px;\n",
              "    }\n",
              "\n",
              "    .colab-df-convert {\n",
              "      background-color: #E8F0FE;\n",
              "      border: none;\n",
              "      border-radius: 50%;\n",
              "      cursor: pointer;\n",
              "      display: none;\n",
              "      fill: #1967D2;\n",
              "      height: 32px;\n",
              "      padding: 0 0 0 0;\n",
              "      width: 32px;\n",
              "    }\n",
              "\n",
              "    .colab-df-convert:hover {\n",
              "      background-color: #E2EBFA;\n",
              "      box-shadow: 0px 1px 2px rgba(60, 64, 67, 0.3), 0px 1px 3px 1px rgba(60, 64, 67, 0.15);\n",
              "      fill: #174EA6;\n",
              "    }\n",
              "\n",
              "    .colab-df-buttons div {\n",
              "      margin-bottom: 4px;\n",
              "    }\n",
              "\n",
              "    [theme=dark] .colab-df-convert {\n",
              "      background-color: #3B4455;\n",
              "      fill: #D2E3FC;\n",
              "    }\n",
              "\n",
              "    [theme=dark] .colab-df-convert:hover {\n",
              "      background-color: #434B5C;\n",
              "      box-shadow: 0px 1px 3px 1px rgba(0, 0, 0, 0.15);\n",
              "      filter: drop-shadow(0px 1px 2px rgba(0, 0, 0, 0.3));\n",
              "      fill: #FFFFFF;\n",
              "    }\n",
              "  </style>\n",
              "\n",
              "    <script>\n",
              "      const buttonEl =\n",
              "        document.querySelector('#df-3ccf0051-a575-43c2-be6f-52379d2a3ef1 button.colab-df-convert');\n",
              "      buttonEl.style.display =\n",
              "        google.colab.kernel.accessAllowed ? 'block' : 'none';\n",
              "\n",
              "      async function convertToInteractive(key) {\n",
              "        const element = document.querySelector('#df-3ccf0051-a575-43c2-be6f-52379d2a3ef1');\n",
              "        const dataTable =\n",
              "          await google.colab.kernel.invokeFunction('convertToInteractive',\n",
              "                                                    [key], {});\n",
              "        if (!dataTable) return;\n",
              "\n",
              "        const docLinkHtml = 'Like what you see? Visit the ' +\n",
              "          '<a target=\"_blank\" href=https://colab.research.google.com/notebooks/data_table.ipynb>data table notebook</a>'\n",
              "          + ' to learn more about interactive tables.';\n",
              "        element.innerHTML = '';\n",
              "        dataTable['output_type'] = 'display_data';\n",
              "        await google.colab.output.renderOutput(dataTable, element);\n",
              "        const docLink = document.createElement('div');\n",
              "        docLink.innerHTML = docLinkHtml;\n",
              "        element.appendChild(docLink);\n",
              "      }\n",
              "    </script>\n",
              "  </div>\n",
              "\n",
              "\n",
              "<div id=\"df-bec78d0a-5362-4d3e-89cb-b8e3084cad1b\">\n",
              "  <button class=\"colab-df-quickchart\" onclick=\"quickchart('df-bec78d0a-5362-4d3e-89cb-b8e3084cad1b')\"\n",
              "            title=\"Suggest charts\"\n",
              "            style=\"display:none;\">\n",
              "\n",
              "<svg xmlns=\"http://www.w3.org/2000/svg\" height=\"24px\"viewBox=\"0 0 24 24\"\n",
              "     width=\"24px\">\n",
              "    <g>\n",
              "        <path d=\"M19 3H5c-1.1 0-2 .9-2 2v14c0 1.1.9 2 2 2h14c1.1 0 2-.9 2-2V5c0-1.1-.9-2-2-2zM9 17H7v-7h2v7zm4 0h-2V7h2v10zm4 0h-2v-4h2v4z\"/>\n",
              "    </g>\n",
              "</svg>\n",
              "  </button>\n",
              "\n",
              "<style>\n",
              "  .colab-df-quickchart {\n",
              "      --bg-color: #E8F0FE;\n",
              "      --fill-color: #1967D2;\n",
              "      --hover-bg-color: #E2EBFA;\n",
              "      --hover-fill-color: #174EA6;\n",
              "      --disabled-fill-color: #AAA;\n",
              "      --disabled-bg-color: #DDD;\n",
              "  }\n",
              "\n",
              "  [theme=dark] .colab-df-quickchart {\n",
              "      --bg-color: #3B4455;\n",
              "      --fill-color: #D2E3FC;\n",
              "      --hover-bg-color: #434B5C;\n",
              "      --hover-fill-color: #FFFFFF;\n",
              "      --disabled-bg-color: #3B4455;\n",
              "      --disabled-fill-color: #666;\n",
              "  }\n",
              "\n",
              "  .colab-df-quickchart {\n",
              "    background-color: var(--bg-color);\n",
              "    border: none;\n",
              "    border-radius: 50%;\n",
              "    cursor: pointer;\n",
              "    display: none;\n",
              "    fill: var(--fill-color);\n",
              "    height: 32px;\n",
              "    padding: 0;\n",
              "    width: 32px;\n",
              "  }\n",
              "\n",
              "  .colab-df-quickchart:hover {\n",
              "    background-color: var(--hover-bg-color);\n",
              "    box-shadow: 0 1px 2px rgba(60, 64, 67, 0.3), 0 1px 3px 1px rgba(60, 64, 67, 0.15);\n",
              "    fill: var(--button-hover-fill-color);\n",
              "  }\n",
              "\n",
              "  .colab-df-quickchart-complete:disabled,\n",
              "  .colab-df-quickchart-complete:disabled:hover {\n",
              "    background-color: var(--disabled-bg-color);\n",
              "    fill: var(--disabled-fill-color);\n",
              "    box-shadow: none;\n",
              "  }\n",
              "\n",
              "  .colab-df-spinner {\n",
              "    border: 2px solid var(--fill-color);\n",
              "    border-color: transparent;\n",
              "    border-bottom-color: var(--fill-color);\n",
              "    animation:\n",
              "      spin 1s steps(1) infinite;\n",
              "  }\n",
              "\n",
              "  @keyframes spin {\n",
              "    0% {\n",
              "      border-color: transparent;\n",
              "      border-bottom-color: var(--fill-color);\n",
              "      border-left-color: var(--fill-color);\n",
              "    }\n",
              "    20% {\n",
              "      border-color: transparent;\n",
              "      border-left-color: var(--fill-color);\n",
              "      border-top-color: var(--fill-color);\n",
              "    }\n",
              "    30% {\n",
              "      border-color: transparent;\n",
              "      border-left-color: var(--fill-color);\n",
              "      border-top-color: var(--fill-color);\n",
              "      border-right-color: var(--fill-color);\n",
              "    }\n",
              "    40% {\n",
              "      border-color: transparent;\n",
              "      border-right-color: var(--fill-color);\n",
              "      border-top-color: var(--fill-color);\n",
              "    }\n",
              "    60% {\n",
              "      border-color: transparent;\n",
              "      border-right-color: var(--fill-color);\n",
              "    }\n",
              "    80% {\n",
              "      border-color: transparent;\n",
              "      border-right-color: var(--fill-color);\n",
              "      border-bottom-color: var(--fill-color);\n",
              "    }\n",
              "    90% {\n",
              "      border-color: transparent;\n",
              "      border-bottom-color: var(--fill-color);\n",
              "    }\n",
              "  }\n",
              "</style>\n",
              "\n",
              "  <script>\n",
              "    async function quickchart(key) {\n",
              "      const quickchartButtonEl =\n",
              "        document.querySelector('#' + key + ' button');\n",
              "      quickchartButtonEl.disabled = true;  // To prevent multiple clicks.\n",
              "      quickchartButtonEl.classList.add('colab-df-spinner');\n",
              "      try {\n",
              "        const charts = await google.colab.kernel.invokeFunction(\n",
              "            'suggestCharts', [key], {});\n",
              "      } catch (error) {\n",
              "        console.error('Error during call to suggestCharts:', error);\n",
              "      }\n",
              "      quickchartButtonEl.classList.remove('colab-df-spinner');\n",
              "      quickchartButtonEl.classList.add('colab-df-quickchart-complete');\n",
              "    }\n",
              "    (() => {\n",
              "      let quickchartButtonEl =\n",
              "        document.querySelector('#df-bec78d0a-5362-4d3e-89cb-b8e3084cad1b button');\n",
              "      quickchartButtonEl.style.display =\n",
              "        google.colab.kernel.accessAllowed ? 'block' : 'none';\n",
              "    })();\n",
              "  </script>\n",
              "</div>\n",
              "\n",
              "    </div>\n",
              "  </div>\n"
            ],
            "application/vnd.google.colaboratory.intrinsic+json": {
              "type": "dataframe",
              "variable_name": "bikes",
              "summary": "{\n  \"name\": \"bikes\",\n  \"rows\": 10886,\n  \"fields\": [\n    {\n      \"column\": \"datetime\",\n      \"properties\": {\n        \"dtype\": \"date\",\n        \"min\": \"2011-01-01 00:00:00\",\n        \"max\": \"2012-12-19 23:00:00\",\n        \"num_unique_values\": 10886,\n        \"samples\": [\n          \"2011-07-19 11:00:00\",\n          \"2012-01-16 06:00:00\",\n          \"2011-12-11 18:00:00\"\n        ],\n        \"semantic_type\": \"\",\n        \"description\": \"\"\n      }\n    },\n    {\n      \"column\": \"season\",\n      \"properties\": {\n        \"dtype\": \"number\",\n        \"std\": 1,\n        \"min\": 1,\n        \"max\": 4,\n        \"num_unique_values\": 4,\n        \"samples\": [\n          2,\n          4,\n          1\n        ],\n        \"semantic_type\": \"\",\n        \"description\": \"\"\n      }\n    },\n    {\n      \"column\": \"holiday\",\n      \"properties\": {\n        \"dtype\": \"number\",\n        \"std\": 0,\n        \"min\": 0,\n        \"max\": 1,\n        \"num_unique_values\": 2,\n        \"samples\": [\n          1,\n          0\n        ],\n        \"semantic_type\": \"\",\n        \"description\": \"\"\n      }\n    },\n    {\n      \"column\": \"workingday\",\n      \"properties\": {\n        \"dtype\": \"number\",\n        \"std\": 0,\n        \"min\": 0,\n        \"max\": 1,\n        \"num_unique_values\": 2,\n        \"samples\": [\n          1,\n          0\n        ],\n        \"semantic_type\": \"\",\n        \"description\": \"\"\n      }\n    },\n    {\n      \"column\": \"weather\",\n      \"properties\": {\n        \"dtype\": \"number\",\n        \"std\": 0,\n        \"min\": 1,\n        \"max\": 4,\n        \"num_unique_values\": 4,\n        \"samples\": [\n          2,\n          4\n        ],\n        \"semantic_type\": \"\",\n        \"description\": \"\"\n      }\n    },\n    {\n      \"column\": \"temp\",\n      \"properties\": {\n        \"dtype\": \"number\",\n        \"std\": 7.791589843987567,\n        \"min\": 0.82,\n        \"max\": 41.0,\n        \"num_unique_values\": 49,\n        \"samples\": [\n          6.56,\n          1.64\n        ],\n        \"semantic_type\": \"\",\n        \"description\": \"\"\n      }\n    },\n    {\n      \"column\": \"atemp\",\n      \"properties\": {\n        \"dtype\": \"number\",\n        \"std\": 8.474600626484948,\n        \"min\": 0.76,\n        \"max\": 45.455,\n        \"num_unique_values\": 60,\n        \"samples\": [\n          14.395,\n          16.665\n        ],\n        \"semantic_type\": \"\",\n        \"description\": \"\"\n      }\n    },\n    {\n      \"column\": \"humidity\",\n      \"properties\": {\n        \"dtype\": \"number\",\n        \"std\": 19,\n        \"min\": 0,\n        \"max\": 100,\n        \"num_unique_values\": 89,\n        \"samples\": [\n          29,\n          61\n        ],\n        \"semantic_type\": \"\",\n        \"description\": \"\"\n      }\n    },\n    {\n      \"column\": \"windspeed\",\n      \"properties\": {\n        \"dtype\": \"number\",\n        \"std\": 8.164537326838689,\n        \"min\": 0.0,\n        \"max\": 56.9969,\n        \"num_unique_values\": 28,\n        \"samples\": [\n          22.0028,\n          43.0006\n        ],\n        \"semantic_type\": \"\",\n        \"description\": \"\"\n      }\n    },\n    {\n      \"column\": \"casual\",\n      \"properties\": {\n        \"dtype\": \"number\",\n        \"std\": 49,\n        \"min\": 0,\n        \"max\": 367,\n        \"num_unique_values\": 309,\n        \"samples\": [\n          287,\n          47\n        ],\n        \"semantic_type\": \"\",\n        \"description\": \"\"\n      }\n    },\n    {\n      \"column\": \"registered\",\n      \"properties\": {\n        \"dtype\": \"number\",\n        \"std\": 151,\n        \"min\": 0,\n        \"max\": 886,\n        \"num_unique_values\": 731,\n        \"samples\": [\n          566,\n          9\n        ],\n        \"semantic_type\": \"\",\n        \"description\": \"\"\n      }\n    },\n    {\n      \"column\": \"total\",\n      \"properties\": {\n        \"dtype\": \"number\",\n        \"std\": 181,\n        \"min\": 1,\n        \"max\": 977,\n        \"num_unique_values\": 822,\n        \"samples\": [\n          626,\n          256\n        ],\n        \"semantic_type\": \"\",\n        \"description\": \"\"\n      }\n    },\n    {\n      \"column\": \"hour\",\n      \"properties\": {\n        \"dtype\": \"int32\",\n        \"num_unique_values\": 24,\n        \"samples\": [\n          8,\n          16\n        ],\n        \"semantic_type\": \"\",\n        \"description\": \"\"\n      }\n    }\n  ]\n}"
            }
          },
          "metadata": {},
          "execution_count": 9
        }
      ],
      "source": [
        "# Lectura de la información de archivo .csv\n",
        "bikes = pd.read_csv('https://raw.githubusercontent.com/davidzarruk/MIAD_ML_NLP_2023/main/datasets/bikeshare.csv', index_col='datetime', parse_dates=True)\n",
        "\n",
        "# Renombrar variable \"count\" a \"total\"\n",
        "bikes.rename(columns={'count':'total'}, inplace=True)\n",
        "\n",
        "# Crear la hora como una variable\n",
        "bikes['hour'] = bikes.index.hour\n",
        "\n",
        "# Visualización de los datos\n",
        "bikes.head()"
      ]
    },
    {
      "cell_type": "markdown",
      "metadata": {
        "id": "PFqK_fECLdsU"
      },
      "source": [
        "### Punto 1 - Análisis descriptivo\n",
        "\n",
        "Ejecute las celdas 1.1 y 1.2. A partir de los resultados realice un análisis descriptivo sobre las variables \"season\" y \"hour\", escriba sus inferencias sobre los datos. Para complementar su análisis puede usar métricas como máximo, mínimo, percentiles entre otros."
      ]
    },
    {
      "cell_type": "code",
      "execution_count": 10,
      "metadata": {
        "colab": {
          "base_uri": "https://localhost:8080/"
        },
        "id": "mJklGyQDLdsU",
        "outputId": "42ee82c3-947b-4018-be69-0d728f27df0b"
      },
      "outputs": [
        {
          "output_type": "stream",
          "name": "stdout",
          "text": [
            "season\n",
            "1    116.343261\n",
            "2    215.251372\n",
            "3    234.417124\n",
            "4    198.988296\n",
            "Name: total, dtype: float64\n",
            "\n",
            "\n",
            "season\n",
            "1    1\n",
            "2    1\n",
            "3    1\n",
            "4    1\n",
            "Name: total, dtype: int64\n",
            "\n",
            "\n",
            "season\n",
            "1    801\n",
            "2    873\n",
            "3    977\n",
            "4    948\n",
            "Name: total, dtype: int64\n"
          ]
        }
      ],
      "source": [
        "# Celda 1.1\n",
        "print(bikes.groupby('season').total.mean())\n",
        "print(\"\\n\")\n",
        "print(bikes.groupby('season').total.min())\n",
        "print(\"\\n\")\n",
        "print(bikes.groupby('season').total.max())"
      ]
    },
    {
      "cell_type": "markdown",
      "source": [
        "**Análisis Descriptivo Celda 1.1 Variable Season**\n",
        "\n",
        "La variable predictora Season es categórica y posee 4 categorias, una por cada una de las estaciones del año (1:Invierno, 2:Primavera, 3:Verano, 4:Otoño).\n",
        "\n",
        "*   Para cuando la estación corresponde al invierno (Season = 1) tenemos que el número de bicicletas promedio que se rentan es 116 apróximadamente.\n",
        "*   Para cuando la estación corresponde a la primavera (Season = 2) tenemos que el número de bicicletas promedio que se rentan es 215 apróximadamente.\n",
        "*   Para cuando la estación corresponde al verano (Season = 3) tenemos que el número de bicicletas promedio que se rentan es 234 apróximadamente.\n",
        "*   Para cuando la estación corresponde al otoño (Season = 4) tenemos que el número de bicicletas promedio que se rentan es 198 apróximadamente.\n",
        "\n",
        "Adicionalmente, tenemos que el mínimo de bicicletas que se prestan en cualquier estación del año es de 1. Sin embargo, cuando es invierno se han prestado hasta 801, cuando es primavera hasta 873, cuando es verano hasta 977, y finalmente, cuando la estación es otoño se han llegado a prestar hasta 948 bicicletas."
      ],
      "metadata": {
        "id": "rFjQtYgBNQdi"
      }
    },
    {
      "cell_type": "code",
      "execution_count": 11,
      "metadata": {
        "scrolled": true,
        "colab": {
          "base_uri": "https://localhost:8080/",
          "height": 933
        },
        "id": "ilmPkgvwLdsU",
        "outputId": "8c1f580d-e2de-45d9-83ad-54b751849b6c"
      },
      "outputs": [
        {
          "output_type": "stream",
          "name": "stdout",
          "text": [
            "hour\n",
            "0      55.138462\n",
            "1      33.859031\n",
            "2      22.899554\n",
            "3      11.757506\n",
            "4       6.407240\n",
            "5      19.767699\n",
            "6      76.259341\n",
            "7     213.116484\n",
            "8     362.769231\n",
            "9     221.780220\n",
            "10    175.092308\n",
            "11    210.674725\n",
            "12    256.508772\n",
            "13    257.787281\n",
            "14    243.442982\n",
            "15    254.298246\n",
            "16    316.372807\n",
            "17    468.765351\n",
            "18    430.859649\n",
            "19    315.278509\n",
            "20    228.517544\n",
            "21    173.370614\n",
            "22    133.576754\n",
            "23     89.508772\n",
            "Name: total, dtype: float64\n",
            "\n",
            "\n",
            "[<matplotlib.lines.Line2D object at 0x7dacb8a1a590>]\n"
          ]
        },
        {
          "output_type": "display_data",
          "data": {
            "text/plain": [
              "<Figure size 640x480 with 1 Axes>"
            ],
            "image/png": "[encoded data removed]"
          },
          "metadata": {}
        }
      ],
      "source": [
        "# Celda 1.2\n",
        "print(bikes.groupby('hour').total.mean())\n",
        "print(\"\\n\")\n",
        "print(plt.plot(bikes.groupby('hour').total.mean()))"
      ]
    },
    {
      "cell_type": "markdown",
      "source": [
        "**Análisis Descriptivo Celda 1.2 Variable Hour**\n",
        "\n",
        "La variable predictora Hour es categórica y posee 24 categorias, correspondientes a las horas del día.\n",
        "\n",
        "*   La hora que menos demanda de bicicletas tiene es 4:00 AM donde 6 bicicletas en promedio se rentan a esta hora.\n",
        "*   La hora que más demanda de bicicletas tiene es 5:00 PM donde 468 bicicletas en promedio se rentan a esta hora.\n",
        "\n",
        "Al graficar el dataset podemos ver el comportamiento de las bicicletas rentadas durante el día, el eje x corresponde a la hora del día y el eje y al número de bicicletas rentadas. El rango horario donde mas se rentan bicicletas es de 7:AM a 10:00 PM"
      ],
      "metadata": {
        "id": "vmP0-FAFPyz0"
      }
    },
    {
      "cell_type": "markdown",
      "metadata": {
        "id": "V_NUCQyfLdsV"
      },
      "source": [
        "### Punto 2 - Análisis de gráficos\n",
        "\n",
        "Primero ejecute la celda 2.1 y asegúrese de comprender el código y el resultado. Luego, en cada una de celdas 2.2 y 2.3 escriba un código que genere una gráfica del número de bicicletas rentadas promedio para cada valor de la variable \"hour\" (hora) cuando la variable \"season\" es igual a 1 (invierno) e igual a 3 (verano), respectivamente. Analice y escriba sus hallazgos."
      ]
    },
    {
      "cell_type": "code",
      "execution_count": 12,
      "metadata": {
        "colab": {
          "base_uri": "https://localhost:8080/",
          "height": 466
        },
        "id": "SmjmqueeLdsV",
        "outputId": "121d7d21-cb2c-4808-bd6d-bcafcb3feca6"
      },
      "outputs": [
        {
          "output_type": "execute_result",
          "data": {
            "text/plain": [
              "<Axes: xlabel='hour'>"
            ]
          },
          "metadata": {},
          "execution_count": 12
        },
        {
          "output_type": "display_data",
          "data": {
            "text/plain": [
              "<Figure size 640x480 with 1 Axes>"
            ],
            "image/png": "[encoded data removed]"
          },
          "metadata": {}
        }
      ],
      "source": [
        "# Celda 2.1 - rentas promedio para cada valor de la variable \"hour\"\n",
        "bikes.groupby('hour').total.mean().plot()"
      ]
    },
    {
      "cell_type": "code",
      "execution_count": 14,
      "metadata": {
        "colab": {
          "base_uri": "https://localhost:8080/",
          "height": 466
        },
        "id": "DBoG7In5LdsV",
        "outputId": "42fecc0d-69b9-4eab-d4b3-059b5b290f06"
      },
      "outputs": [
        {
          "output_type": "stream",
          "name": "stdout",
          "text": [
            "Axes(0.125,0.11;0.775x0.77)\n"
          ]
        },
        {
          "output_type": "display_data",
          "data": {
            "text/plain": [
              "<Figure size 640x480 with 1 Axes>"
            ],
            "image/png": "[encoded data removed]"
          },
          "metadata": {}
        }
      ],
      "source": [
        "# Celda 2.2 - \"season\"=1 escriba su código y hallazgos\n",
        "season_1 = bikes[bikes.season == 1].groupby('hour').total.mean().plot()\n",
        "print(season_1)"
      ]
    },
    {
      "cell_type": "markdown",
      "source": [
        "**Análisis Celda 2.2 Variable Season = 1 (Invierno)**\n",
        "\n",
        "Podemos ver que el comportamiento de la renta de bicicletas durante el día cambia dependiendo de la estación del año. La gráfica nos muestra que cuando la estación es invierno, el comportamiento de la renta de bicicletas es similar al comportamiento base. Es evidente que se maneja el mismo patrón en las diferentes horas del día, al igual que las mismas horas pico de renta de bicicletas. Sin embargo, es posible evidenciar que en invierno el número de bicicletas rentadas disminuye en casi un 50%. Esto tiene sentido debido a las temperaturas que se alcanzan normalmente en esta época del año, las cuales no son óptimas o no muy cómodas para andar en bicicleta."
      ],
      "metadata": {
        "id": "ync54Rl6TcGu"
      }
    },
    {
      "cell_type": "code",
      "execution_count": 15,
      "metadata": {
        "colab": {
          "base_uri": "https://localhost:8080/",
          "height": 466
        },
        "id": "0Qa4b1D1LdsV",
        "outputId": "99790f98-3763-4d50-b03f-c2e1d9fa9459"
      },
      "outputs": [
        {
          "output_type": "stream",
          "name": "stdout",
          "text": [
            "Axes(0.125,0.11;0.775x0.77)\n"
          ]
        },
        {
          "output_type": "display_data",
          "data": {
            "text/plain": [
              "<Figure size 640x480 with 1 Axes>"
            ],
            "image/png": "[encoded data removed]"
          },
          "metadata": {}
        }
      ],
      "source": [
        "# Celda 2.3 - \"season\"=3 escriba su código y hallazgos\n",
        "season_3 = bikes[bikes.season == 3].groupby('hour').total.mean().plot()\n",
        "print(season_3)"
      ]
    },
    {
      "cell_type": "markdown",
      "source": [
        "**Análisis Celda 2.3 Variable Season = 3 (Verano)**\n",
        "\n",
        "Podemos ver que el comportamiento de la renta de bicicletas durante el día cambia dependiendo de la estación del año. La gráfica nos muestra que cuando la estación es verano, el comportamiento de la renta de bicicletas es similar al comportamiento base, incluso similar a cuando la estación es invierno. Es evidente que se maneja el mismo patrón en las diferentes horas del día, al igual que las mismas horas pico de renta de bicicletas. Sin embargo, es posible evidenciar que en verano el número de bicicletas rentadas aumenta sutilmente superando las 500 bicicletas rentadas. Esto tiene sentido debido a las temperaturas que se alcanzan normalmente en esta época del año, las cuales son óptimas y más adecuadas para andar en bicicleta."
      ],
      "metadata": {
        "id": "Sba7wm5zVAKv"
      }
    },
    {
      "cell_type": "markdown",
      "metadata": {
        "id": "ejZTp7ygLdsW"
      },
      "source": [
        "### Punto 3 - Regresión lineal\n",
        "En la celda 3 ajuste un modelo de regresión lineal a todo el conjunto de datos, utilizando \"total\" como variable de respuesta y \"season\" y \"hour\" como las únicas variables predictoras, teniendo en cuenta que la variable \"season\" es categórica. Luego, imprima los coeficientes e interprételos. ¿Cuáles son las limitaciones de la regresión lineal en este caso?"
      ]
    },
    {
      "cell_type": "code",
      "execution_count": 16,
      "metadata": {
        "colab": {
          "base_uri": "https://localhost:8080/"
        },
        "id": "Qjmm5iDmLdsW",
        "outputId": "89fec775-0920-4c37-a933-737516affcb6"
      },
      "outputs": [
        {
          "output_type": "stream",
          "name": "stdout",
          "text": [
            "B0: 29.536159845355144\n",
            "Betas: [10.52129824 26.95130851]\n"
          ]
        }
      ],
      "source": [
        "# Celda 3\n",
        "y_train = bikes[\"total\"]\n",
        "bikes['hour'] = pd.factorize(bikes.hour)[0]\n",
        "bikes['season'] = pd.factorize(bikes.season)[0]\n",
        "X_train = pd.concat([bikes['hour'], bikes['season']], axis=1)\n",
        "\n",
        "linearR = LinearRegression().fit(X_train, y_train)\n",
        "print(\"B0: \" + str(linearR.intercept_))\n",
        "print(\"Betas: \"+ str(linearR.coef_))"
      ]
    },
    {
      "cell_type": "markdown",
      "source": [
        "**Análisis Celda 3 Modelo de Regresión Lineal (Season y Hour)**\n",
        "\n",
        "Una vez realizado el modelo de regresión lineal obtenemos que para la variable Hour tenemos un beta de 10.52 y para la variable Season tenemos un beta de 26.95. Justamente genera ciertas dificultades realizar la interpretación de estos coeficientes debido a que son variables categoricas, por lo que esta es una de las limitaciones del modelo de regresión lineal, que no es directamente interpretable cuando se tiene una variable con varias categorías.\n",
        "\n"
      ],
      "metadata": {
        "id": "tYYxNJyiWmbf"
      }
    },
    {
      "cell_type": "markdown",
      "metadata": {
        "id": "sYnAgYRkLdsW"
      },
      "source": [
        "### Punto 4 - Árbol de decisión manual\n",
        "En la celda 4 cree un árbol de decisiones para pronosticar la variable \"total\" iterando **manualmente** sobre las variables \"hour\" y  \"season\". El árbol debe tener al menos 6 nodos finales."
      ]
    },
    {
      "cell_type": "code",
      "execution_count": 17,
      "metadata": {
        "colab": {
          "base_uri": "https://localhost:8080/"
        },
        "id": "uVVpwrj8LdsW",
        "outputId": "f6573789-3410-4c58-eaa3-51e035e28c67"
      },
      "outputs": [
        {
          "output_type": "stream",
          "name": "stdout",
          "text": [
            "Primera ramificación\n",
            "season\n",
            "MSE (Season = 1) : 36853.522249306465\n",
            "MSE (Season != 1) : 31204.03370592009\n",
            "\n",
            "hour\n",
            "MSE (Hour > 7) : 31316.752383585103\n",
            "MSE (Hour < 7) : 8173.069710337732\n",
            "\n",
            "Seleccion primer Nodo -> Hour < 7\n",
            "\n",
            "\n",
            "Segunda ramificación (Hour < 7)\n",
            "NODO FINAL - MSE (Hour < 7) & (Season = 3): 1608.816625527133\n",
            "NODO FINAL - MSE (Hour < 7) & (Season != 3): 1549.515144957355\n",
            "\n",
            "\n",
            "Tercera ramificación (Hour > 22)\n",
            "MSE (22 < Hour < 7): nan\n",
            "MSE (7 < Hour < 21): 31077.582402988504\n",
            "\n",
            "Seleccion tercer Nodo -> 22 < Hour < 7\n",
            "\n",
            "\n",
            "Cuarta ramificación (22 < Hour < 7) \n",
            "NODO FINAL - MSE (22 < Hour < 7) & (Season = 2): nan\n",
            "NODO FINAL - MSE (22 < Hour < 7) & (Season != 2): nan\n",
            "\n",
            "\n",
            "Quinta ramificación (Hour >= 7)\n",
            "NODO FINAL - MSE (Hour >= 7) & (Season = 4): nan\n",
            "NODO FINAL - MSE (Hour >= 7) & (Season != 4): 31077.582402988504\n"
          ]
        }
      ],
      "source": [
        "# Celda 4\n",
        "print(\"Primera ramificación\")\n",
        "\n",
        "# Impresión variable a usar (Season)\n",
        "print(X_train.columns[1])\n",
        "# División de la variable Season\n",
        "filter_l = X_train.iloc[:, 1] == 1\n",
        "# División de la variable de respuesta de acuerdo a si la observación cumple o no con la regla binaria\n",
        "y_l = y_train.loc[filter_l] # y_l: la observación es en invierno\n",
        "y_r = y_train.loc[~filter_l] # y_r: la observación NO es en invierno.\n",
        "predict_l = np.average(y_l) # Prediccion de la particion l\n",
        "predict_r = np.average(y_r) # Predicción de la partición r\n",
        "MSE_l = np.average( np.square(predict_l - y_l) )\n",
        "MSE_r = np.average( np.square(predict_r - y_r) )\n",
        "print(\"MSE (Season = 1) : \"+str(MSE_l))\n",
        "print(\"MSE (Season != 1) : \"+str(MSE_r))\n",
        "print(\"\")\n",
        "\n",
        "# Impresión variable a usar (Hour)\n",
        "print(X_train.columns[0])\n",
        "# División de la variable Hour\n",
        "filter_2 = X_train.iloc[:, 0] > 7\n",
        "\n",
        "y_l = y_train.loc[filter_2] # y_l: la observación es despues de las 7 AM.\n",
        "y_r = y_train.loc[~filter_2] # y_l: la observación es antes de las 7 AM.\n",
        "predict_l = np.average(y_l)\n",
        "predict_r = np.average(y_r)\n",
        "MSE_l = np.average( np.square(predict_l - y_l) )\n",
        "MSE_r = np.average( np.square(predict_r - y_r) )\n",
        "\n",
        "print(\"MSE (Hour > 7) : \" + str(MSE_l))\n",
        "print(\"MSE (Hour < 7) : \" + str(MSE_r))\n",
        "print(\"\")\n",
        "print(\"Seleccion primer Nodo -> Hour < 7\")\n",
        "print('\\n')\n",
        "\n",
        "print(\"Segunda ramificación (Hour < 7)\")\n",
        "## Explorar el nodo Hour < 7\n",
        "filter_3 = (X_train.iloc[:, 0] < 7) & (X_train.iloc[:, 1] == 3) #Nodo Hour < 7 y Season = 3\n",
        "filter_4 = (X_train.iloc[:, 0] < 7) & (X_train.iloc[:, 1] != 3) #Nodo Hour < 7 y Season != 3\n",
        "y_l = y_train.loc[filter_3] # y_l: la observación es antes de las 7 AM y es en verano.\n",
        "y_r = y_train.loc[filter_4] # y_l: la observación es antes de las 7 AM y NO es en verano.\n",
        "predict_l, predict_r = np.average(y_l), np.average(y_r)\n",
        "MSE_l = np.average( np.square(predict_l - y_l) )\n",
        "MSE_r = np.average( np.square(predict_r - y_r) )\n",
        "print(\"NODO FINAL - MSE (Hour < 7) & (Season = 3): \" + str(MSE_l))\n",
        "print(\"NODO FINAL - MSE (Hour < 7) & (Season != 3): \" + str(MSE_r))\n",
        "\n",
        "print('\\n')\n",
        "print(\"Tercera ramificación (Hour > 22)\")\n",
        "## Explorar el nodo Hour < 7\n",
        "filter_5 = (X_train.iloc[:, 0] > 22) & (X_train.iloc[:, 0] < 7) #Nodo 22 < Hour < 7\n",
        "filter_6 = (X_train.iloc[:, 0] >= 7) & (X_train.iloc[:, 0] < 24) #Nodo 7 < Hour < 21\n",
        "\n",
        "y_l = y_train.loc[filter_5] # y_l: la observación es entre las 10 PM y las 7 AM.\n",
        "y_r = y_train.loc[filter_6] # y_l: la observación es entre las 7 AM y las 9 PM.\n",
        "predict_l, predict_r = np.average(y_l), np.average(y_r)\n",
        "MSE_l = np.average( np.square(predict_l - y_l) )\n",
        "MSE_r = np.average( np.square(predict_r - y_r) )\n",
        "print(\"MSE (22 < Hour < 7): \" + str(MSE_l))\n",
        "print(\"MSE (7 < Hour < 21): \" + str(MSE_r))\n",
        "print(\"\")\n",
        "print(\"Seleccion tercer Nodo -> 22 < Hour < 7\")\n",
        "print('\\n')\n",
        "print(\"Cuarta ramificación (22 < Hour < 7) \")\n",
        "filter_7 = (X_train.iloc[:, 0] > 22) & (X_train.iloc[:, 0] < 7) & (X_train.iloc[:, 1] == 2) #Nodo 22 < Hour < 7 y es en primavera.\n",
        "filter_8 = (X_train.iloc[:, 0] > 22) & (X_train.iloc[:, 0] < 7) & (X_train.iloc[:, 1] != 2) #Nodo 22 < Hour < 7 y NO es en primavera.\n",
        "y_l = y_train.loc[filter_7] # y_l: la observación es entre 10 PM y 7 AM y es en primavera.\n",
        "y_r = y_train.loc[filter_8] # y_l: la observación es es entre 10 PM y 7 AM y NO es en primavera.\n",
        "predict_l, predict_r = np.average(y_l), np.average(y_r)\n",
        "MSE_l = np.average( np.square(predict_l - y_l) )\n",
        "MSE_r = np.average( np.square(predict_r - y_r) )\n",
        "print(\"NODO FINAL - MSE (22 < Hour < 7) & (Season = 2): \" + str(MSE_l))\n",
        "print(\"NODO FINAL - MSE (22 < Hour < 7) & (Season != 2): \" + str(MSE_r))\n",
        "\n",
        "print('\\n')\n",
        "print(\"Quinta ramificación (Hour >= 7)\")\n",
        "filter_9 = (X_train.iloc[:, 0] >= 7) & (X_train.iloc[:, 1] == 4) #Nodo Hour > 7 y es en otoño.\n",
        "filter_10 = (X_train.iloc[:, 0] >= 7) & (X_train.iloc[:, 1] != 4) #Nodo Hour > 7 y NO es en otoño.\n",
        "y_l = y_train.loc[filter_9] # y_l: la observación es despues de 7 AM y es en otoño..\n",
        "y_r = y_train.loc[filter_10] # y_l: la observación es despues de 7 AM y NO es en otoño.\n",
        "predict_l, predict_r = np.average(y_l), np.average(y_r)\n",
        "MSE_l = np.average( np.square(predict_l - y_l) )\n",
        "MSE_r = np.average( np.square(predict_r - y_r) )\n",
        "print(\"NODO FINAL - MSE (Hour >= 7) & (Season = 4): \" + str(MSE_l))\n",
        "print(\"NODO FINAL - MSE (Hour >= 7) & (Season != 4): \" + str(MSE_r))"
      ]
    },
    {
      "cell_type": "markdown",
      "metadata": {
        "id": "hAJ0cgSHLdsW"
      },
      "source": [
        "### Punto 5 - Árbol de decisión con librería\n",
        "En la celda 5 entrene un árbol de decisiones con la **librería sklearn**, usando las variables predictoras \"season\" y \"hour\" y calibre los parámetros que considere conveniente para obtener un mejor desempeño. Recuerde dividir los datos en conjuntos de entrenamiento y validación para esto. Comente el desempeño del modelo con alguna métrica de desempeño de modelos de regresión y compare desempeño con el modelo del punto 3."
      ]
    },
    {
      "cell_type": "code",
      "execution_count": 19,
      "metadata": {
        "colab": {
          "base_uri": "https://localhost:8080/",
          "height": 485
        },
        "id": "JwOE0CnOLdsW",
        "outputId": "1e078665-5937-48da-ccb3-96425c53c466"
      },
      "outputs": [
        {
          "output_type": "stream",
          "name": "stdout",
          "text": [
            "Calibracion del párametro max_depth\n"
          ]
        },
        {
          "output_type": "display_data",
          "data": {
            "text/plain": [
              "<Figure size 640x480 with 1 Axes>"
            ],
            "image/png": "[encoded data removed]"
          },
          "metadata": {}
        },
        {
          "output_type": "execute_result",
          "data": {
            "text/plain": [
              "(-0.4841374721061996, 1)"
            ]
          },
          "metadata": {},
          "execution_count": 19
        }
      ],
      "source": [
        "# Celda 5\n",
        "# Definir matriz X y Y para entrenar los modelos\n",
        "y_train = bikes[\"total\"]\n",
        "bikes['hour'] = pd.factorize(bikes.hour)[0]\n",
        "bikes['season'] = pd.factorize(bikes.workingday)[0]\n",
        "X_train = pd.concat([bikes['hour'], bikes['season']], axis=1)\n",
        "\n",
        "# Lista de valores para calibrar el criterio de parada de máxima profundidad (max_depth)\n",
        "max_depth_range = range(1, 21)\n",
        "\n",
        "# Lista para guardar los valores del MSE para cada valor de máxima profundidad (max_depth)\n",
        "mse_scores = []\n",
        "\n",
        "# Loop para obtener el desempeño del modelo de acuerdo con la máxima profundidad\n",
        "for depth in max_depth_range:\n",
        "    # Definición del árbol de decisión usando DecisionTreeClassifier de la libreria sklearn\n",
        "    clf = DecisionTreeRegressor(max_depth=depth, random_state=1)\n",
        "    mse_scores.append(cross_val_score(clf, X_train, y_train, cv=10, scoring=None).mean())\n",
        "\n",
        "print(\"Calibracion del párametro max_depth\")\n",
        "# Gráfica max_depth versus MSE (error del modelo)\n",
        "plt.plot(max_depth_range, mse_scores)\n",
        "plt.xlabel('max_depth')\n",
        "plt.ylabel('MSE')\n",
        "plt.show()\n",
        "\n",
        "# Mejor MSE (desempeño del modelo) y su correspondiente max_depth\n",
        "sorted(zip(mse_scores, max_depth_range), reverse = True)[::-1][0]"
      ]
    },
    {
      "cell_type": "markdown",
      "source": [
        "**Análisis Celda 5 Árbol de Decisión con Librería**\n",
        "\n",
        "En primer lugar cabe aclarar que se está usando el mismo conjunto de entrenamiento para calibrar un parámetro del modelo, por lo tanto, se espera que el comportamiento del MSE no sea cóncavo, es decir, no funciona para calibrar. Sin embargo, hacemos la calibración a pesar de lo anterior y obtenemos que la profundidad que minimiza el MSE es igual a 1, con un MSE de -0.48"
      ],
      "metadata": {
        "id": "1kP7Yxhgc4ez"
      }
    },
    {
      "cell_type": "markdown",
      "metadata": {
        "id": "CV8zoqsaLdsX"
      },
      "source": [
        "## Parte B - Métodos de ensamblajes\n",
        "En esta parte del taller se usará el conjunto de datos de Popularidad de Noticias Online. El objetivo es predecir si la notica es popular o no, la popularidad está dada por la cantidad de reacciones en redes sociales. Para más detalles puede visitar el siguiente enlace: [datos](https://archive.ics.uci.edu/ml/datasets/online+news+popularity)."
      ]
    },
    {
      "cell_type": "markdown",
      "metadata": {
        "id": "dEuoU3kvLdsX"
      },
      "source": [
        "### Datos popularidad de noticias"
      ]
    },
    {
      "cell_type": "code",
      "execution_count": 20,
      "metadata": {
        "colab": {
          "base_uri": "https://localhost:8080/",
          "height": 342
        },
        "id": "0-LC7c-uLdsX",
        "outputId": "f89254a3-9774-485a-cff6-02f9776f6e5d"
      },
      "outputs": [
        {
          "output_type": "execute_result",
          "data": {
            "text/plain": [
              "                                                 url  timedelta  \\\n",
              "0  http://mashable.com/2014/12/10/cia-torture-rep...       28.0   \n",
              "1  http://mashable.com/2013/10/18/bitlock-kicksta...      447.0   \n",
              "2  http://mashable.com/2013/07/24/google-glass-po...      533.0   \n",
              "3  http://mashable.com/2013/11/21/these-are-the-m...      413.0   \n",
              "4  http://mashable.com/2014/02/11/parking-ticket-...      331.0   \n",
              "\n",
              "   n_tokens_title  n_tokens_content  n_unique_tokens  n_non_stop_words  \\\n",
              "0             9.0             188.0         0.732620               1.0   \n",
              "1             7.0             297.0         0.653199               1.0   \n",
              "2            11.0             181.0         0.660377               1.0   \n",
              "3            12.0             781.0         0.497409               1.0   \n",
              "4             8.0             177.0         0.685714               1.0   \n",
              "\n",
              "   n_non_stop_unique_tokens  num_hrefs  num_self_hrefs  num_imgs  ...  \\\n",
              "0                  0.844262        5.0             1.0       1.0  ...   \n",
              "1                  0.815789        9.0             4.0       1.0  ...   \n",
              "2                  0.775701        4.0             3.0       1.0  ...   \n",
              "3                  0.677350       10.0             3.0       1.0  ...   \n",
              "4                  0.830357        3.0             2.0       1.0  ...   \n",
              "\n",
              "   min_positive_polarity  max_positive_polarity  avg_negative_polarity  \\\n",
              "0               0.200000                   0.80              -0.487500   \n",
              "1               0.160000                   0.50              -0.135340   \n",
              "2               0.136364                   1.00               0.000000   \n",
              "3               0.100000                   1.00              -0.195701   \n",
              "4               0.100000                   0.55              -0.175000   \n",
              "\n",
              "   min_negative_polarity  max_negative_polarity  title_subjectivity  \\\n",
              "0                  -0.60              -0.250000                 0.9   \n",
              "1                  -0.40              -0.050000                 0.1   \n",
              "2                   0.00               0.000000                 0.3   \n",
              "3                  -0.40              -0.071429                 0.0   \n",
              "4                  -0.25              -0.100000                 0.0   \n",
              "\n",
              "   title_sentiment_polarity  abs_title_subjectivity  \\\n",
              "0                       0.8                     0.4   \n",
              "1                      -0.1                     0.4   \n",
              "2                       1.0                     0.2   \n",
              "3                       0.0                     0.5   \n",
              "4                       0.0                     0.5   \n",
              "\n",
              "   abs_title_sentiment_polarity  Popular  \n",
              "0                           0.8        1  \n",
              "1                           0.1        0  \n",
              "2                           1.0        0  \n",
              "3                           0.0        0  \n",
              "4                           0.0        0  \n",
              "\n",
              "[5 rows x 61 columns]"
            ],
            "text/html": [
              "\n",
              "  <div id=\"df-242621d6-51a6-41d3-b67e-6ca91dbf3bc1\" class=\"colab-df-container\">\n",
              "    <div>\n",
              "<style scoped>\n",
              "    .dataframe tbody tr th:only-of-type {\n",
              "        vertical-align: middle;\n",
              "    }\n",
              "\n",
              "    .dataframe tbody tr th {\n",
              "        vertical-align: top;\n",
              "    }\n",
              "\n",
              "    .dataframe thead th {\n",
              "        text-align: right;\n",
              "    }\n",
              "</style>\n",
              "<table border=\"1\" class=\"dataframe\">\n",
              "  <thead>\n",
              "    <tr style=\"text-align: right;\">\n",
              "      <th></th>\n",
              "      <th>url</th>\n",
              "      <th>timedelta</th>\n",
              "      <th>n_tokens_title</th>\n",
              "      <th>n_tokens_content</th>\n",
              "      <th>n_unique_tokens</th>\n",
              "      <th>n_non_stop_words</th>\n",
              "      <th>n_non_stop_unique_tokens</th>\n",
              "      <th>num_hrefs</th>\n",
              "      <th>num_self_hrefs</th>\n",
              "      <th>num_imgs</th>\n",
              "      <th>...</th>\n",
              "      <th>min_positive_polarity</th>\n",
              "      <th>max_positive_polarity</th>\n",
              "      <th>avg_negative_polarity</th>\n",
              "      <th>min_negative_polarity</th>\n",
              "      <th>max_negative_polarity</th>\n",
              "      <th>title_subjectivity</th>\n",
              "      <th>title_sentiment_polarity</th>\n",
              "      <th>abs_title_subjectivity</th>\n",
              "      <th>abs_title_sentiment_polarity</th>\n",
              "      <th>Popular</th>\n",
              "    </tr>\n",
              "  </thead>\n",
              "  <tbody>\n",
              "    <tr>\n",
              "      <th>0</th>\n",
              "      <td>http://mashable.com/2014/12/10/cia-torture-rep...</td>\n",
              "      <td>28.0</td>\n",
              "      <td>9.0</td>\n",
              "      <td>188.0</td>\n",
              "      <td>0.732620</td>\n",
              "      <td>1.0</td>\n",
              "      <td>0.844262</td>\n",
              "      <td>5.0</td>\n",
              "      <td>1.0</td>\n",
              "      <td>1.0</td>\n",
              "      <td>...</td>\n",
              "      <td>0.200000</td>\n",
              "      <td>0.80</td>\n",
              "      <td>-0.487500</td>\n",
              "      <td>-0.60</td>\n",
              "      <td>-0.250000</td>\n",
              "      <td>0.9</td>\n",
              "      <td>0.8</td>\n",
              "      <td>0.4</td>\n",
              "      <td>0.8</td>\n",
              "      <td>1</td>\n",
              "    </tr>\n",
              "    <tr>\n",
              "      <th>1</th>\n",
              "      <td>http://mashable.com/2013/10/18/bitlock-kicksta...</td>\n",
              "      <td>447.0</td>\n",
              "      <td>7.0</td>\n",
              "      <td>297.0</td>\n",
              "      <td>0.653199</td>\n",
              "      <td>1.0</td>\n",
              "      <td>0.815789</td>\n",
              "      <td>9.0</td>\n",
              "      <td>4.0</td>\n",
              "      <td>1.0</td>\n",
              "      <td>...</td>\n",
              "      <td>0.160000</td>\n",
              "      <td>0.50</td>\n",
              "      <td>-0.135340</td>\n",
              "      <td>-0.40</td>\n",
              "      <td>-0.050000</td>\n",
              "      <td>0.1</td>\n",
              "      <td>-0.1</td>\n",
              "      <td>0.4</td>\n",
              "      <td>0.1</td>\n",
              "      <td>0</td>\n",
              "    </tr>\n",
              "    <tr>\n",
              "      <th>2</th>\n",
              "      <td>http://mashable.com/2013/07/24/google-glass-po...</td>\n",
              "      <td>533.0</td>\n",
              "      <td>11.0</td>\n",
              "      <td>181.0</td>\n",
              "      <td>0.660377</td>\n",
              "      <td>1.0</td>\n",
              "      <td>0.775701</td>\n",
              "      <td>4.0</td>\n",
              "      <td>3.0</td>\n",
              "      <td>1.0</td>\n",
              "      <td>...</td>\n",
              "      <td>0.136364</td>\n",
              "      <td>1.00</td>\n",
              "      <td>0.000000</td>\n",
              "      <td>0.00</td>\n",
              "      <td>0.000000</td>\n",
              "      <td>0.3</td>\n",
              "      <td>1.0</td>\n",
              "      <td>0.2</td>\n",
              "      <td>1.0</td>\n",
              "      <td>0</td>\n",
              "    </tr>\n",
              "    <tr>\n",
              "      <th>3</th>\n",
              "      <td>http://mashable.com/2013/11/21/these-are-the-m...</td>\n",
              "      <td>413.0</td>\n",
              "      <td>12.0</td>\n",
              "      <td>781.0</td>\n",
              "      <td>0.497409</td>\n",
              "      <td>1.0</td>\n",
              "      <td>0.677350</td>\n",
              "      <td>10.0</td>\n",
              "      <td>3.0</td>\n",
              "      <td>1.0</td>\n",
              "      <td>...</td>\n",
              "      <td>0.100000</td>\n",
              "      <td>1.00</td>\n",
              "      <td>-0.195701</td>\n",
              "      <td>-0.40</td>\n",
              "      <td>-0.071429</td>\n",
              "      <td>0.0</td>\n",
              "      <td>0.0</td>\n",
              "      <td>0.5</td>\n",
              "      <td>0.0</td>\n",
              "      <td>0</td>\n",
              "    </tr>\n",
              "    <tr>\n",
              "      <th>4</th>\n",
              "      <td>http://mashable.com/2014/02/11/parking-ticket-...</td>\n",
              "      <td>331.0</td>\n",
              "      <td>8.0</td>\n",
              "      <td>177.0</td>\n",
              "      <td>0.685714</td>\n",
              "      <td>1.0</td>\n",
              "      <td>0.830357</td>\n",
              "      <td>3.0</td>\n",
              "      <td>2.0</td>\n",
              "      <td>1.0</td>\n",
              "      <td>...</td>\n",
              "      <td>0.100000</td>\n",
              "      <td>0.55</td>\n",
              "      <td>-0.175000</td>\n",
              "      <td>-0.25</td>\n",
              "      <td>-0.100000</td>\n",
              "      <td>0.0</td>\n",
              "      <td>0.0</td>\n",
              "      <td>0.5</td>\n",
              "      <td>0.0</td>\n",
              "      <td>0</td>\n",
              "    </tr>\n",
              "  </tbody>\n",
              "</table>\n",
              "<p>5 rows × 61 columns</p>\n",
              "</div>\n",
              "    <div class=\"colab-df-buttons\">\n",
              "\n",
              "  <div class=\"colab-df-container\">\n",
              "    <button class=\"colab-df-convert\" onclick=\"convertToInteractive('df-242621d6-51a6-41d3-b67e-6ca91dbf3bc1')\"\n",
              "            title=\"Convert this dataframe to an interactive table.\"\n",
              "            style=\"display:none;\">\n",
              "\n",
              "  <svg xmlns=\"http://www.w3.org/2000/svg\" height=\"24px\" viewBox=\"0 -960 960 960\">\n",
              "    <path d=\"M120-120v-720h720v720H120Zm60-500h600v-160H180v160Zm220 220h160v-160H400v160Zm0 220h160v-160H400v160ZM180-400h160v-160H180v160Zm440 0h160v-160H620v160ZM180-180h160v-160H180v160Zm440 0h160v-160H620v160Z\"/>\n",
              "  </svg>\n",
              "    </button>\n",
              "\n",
              "  <style>\n",
              "    .colab-df-container {\n",
              "      display:flex;\n",
              "      gap: 12px;\n",
              "    }\n",
              "\n",
              "    .colab-df-convert {\n",
              "      background-color: #E8F0FE;\n",
              "      border: none;\n",
              "      border-radius: 50%;\n",
              "      cursor: pointer;\n",
              "      display: none;\n",
              "      fill: #1967D2;\n",
              "      height: 32px;\n",
              "      padding: 0 0 0 0;\n",
              "      width: 32px;\n",
              "    }\n",
              "\n",
              "    .colab-df-convert:hover {\n",
              "      background-color: #E2EBFA;\n",
              "      box-shadow: 0px 1px 2px rgba(60, 64, 67, 0.3), 0px 1px 3px 1px rgba(60, 64, 67, 0.15);\n",
              "      fill: #174EA6;\n",
              "    }\n",
              "\n",
              "    .colab-df-buttons div {\n",
              "      margin-bottom: 4px;\n",
              "    }\n",
              "\n",
              "    [theme=dark] .colab-df-convert {\n",
              "      background-color: #3B4455;\n",
              "      fill: #D2E3FC;\n",
              "    }\n",
              "\n",
              "    [theme=dark] .colab-df-convert:hover {\n",
              "      background-color: #434B5C;\n",
              "      box-shadow: 0px 1px 3px 1px rgba(0, 0, 0, 0.15);\n",
              "      filter: drop-shadow(0px 1px 2px rgba(0, 0, 0, 0.3));\n",
              "      fill: #FFFFFF;\n",
              "    }\n",
              "  </style>\n",
              "\n",
              "    <script>\n",
              "      const buttonEl =\n",
              "        document.querySelector('#df-242621d6-51a6-41d3-b67e-6ca91dbf3bc1 button.colab-df-convert');\n",
              "      buttonEl.style.display =\n",
              "        google.colab.kernel.accessAllowed ? 'block' : 'none';\n",
              "\n",
              "      async function convertToInteractive(key) {\n",
              "        const element = document.querySelector('#df-242621d6-51a6-41d3-b67e-6ca91dbf3bc1');\n",
              "        const dataTable =\n",
              "          await google.colab.kernel.invokeFunction('convertToInteractive',\n",
              "                                                    [key], {});\n",
              "        if (!dataTable) return;\n",
              "\n",
              "        const docLinkHtml = 'Like what you see? Visit the ' +\n",
              "          '<a target=\"_blank\" href=https://colab.research.google.com/notebooks/data_table.ipynb>data table notebook</a>'\n",
              "          + ' to learn more about interactive tables.';\n",
              "        element.innerHTML = '';\n",
              "        dataTable['output_type'] = 'display_data';\n",
              "        await google.colab.output.renderOutput(dataTable, element);\n",
              "        const docLink = document.createElement('div');\n",
              "        docLink.innerHTML = docLinkHtml;\n",
              "        element.appendChild(docLink);\n",
              "      }\n",
              "    </script>\n",
              "  </div>\n",
              "\n",
              "\n",
              "<div id=\"df-786796be-5006-4211-9c62-11b80540b275\">\n",
              "  <button class=\"colab-df-quickchart\" onclick=\"quickchart('df-786796be-5006-4211-9c62-11b80540b275')\"\n",
              "            title=\"Suggest charts\"\n",
              "            style=\"display:none;\">\n",
              "\n",
              "<svg xmlns=\"http://www.w3.org/2000/svg\" height=\"24px\"viewBox=\"0 0 24 24\"\n",
              "     width=\"24px\">\n",
              "    <g>\n",
              "        <path d=\"M19 3H5c-1.1 0-2 .9-2 2v14c0 1.1.9 2 2 2h14c1.1 0 2-.9 2-2V5c0-1.1-.9-2-2-2zM9 17H7v-7h2v7zm4 0h-2V7h2v10zm4 0h-2v-4h2v4z\"/>\n",
              "    </g>\n",
              "</svg>\n",
              "  </button>\n",
              "\n",
              "<style>\n",
              "  .colab-df-quickchart {\n",
              "      --bg-color: #E8F0FE;\n",
              "      --fill-color: #1967D2;\n",
              "      --hover-bg-color: #E2EBFA;\n",
              "      --hover-fill-color: #174EA6;\n",
              "      --disabled-fill-color: #AAA;\n",
              "      --disabled-bg-color: #DDD;\n",
              "  }\n",
              "\n",
              "  [theme=dark] .colab-df-quickchart {\n",
              "      --bg-color: #3B4455;\n",
              "      --fill-color: #D2E3FC;\n",
              "      --hover-bg-color: #434B5C;\n",
              "      --hover-fill-color: #FFFFFF;\n",
              "      --disabled-bg-color: #3B4455;\n",
              "      --disabled-fill-color: #666;\n",
              "  }\n",
              "\n",
              "  .colab-df-quickchart {\n",
              "    background-color: var(--bg-color);\n",
              "    border: none;\n",
              "    border-radius: 50%;\n",
              "    cursor: pointer;\n",
              "    display: none;\n",
              "    fill: var(--fill-color);\n",
              "    height: 32px;\n",
              "    padding: 0;\n",
              "    width: 32px;\n",
              "  }\n",
              "\n",
              "  .colab-df-quickchart:hover {\n",
              "    background-color: var(--hover-bg-color);\n",
              "    box-shadow: 0 1px 2px rgba(60, 64, 67, 0.3), 0 1px 3px 1px rgba(60, 64, 67, 0.15);\n",
              "    fill: var(--button-hover-fill-color);\n",
              "  }\n",
              "\n",
              "  .colab-df-quickchart-complete:disabled,\n",
              "  .colab-df-quickchart-complete:disabled:hover {\n",
              "    background-color: var(--disabled-bg-color);\n",
              "    fill: var(--disabled-fill-color);\n",
              "    box-shadow: none;\n",
              "  }\n",
              "\n",
              "  .colab-df-spinner {\n",
              "    border: 2px solid var(--fill-color);\n",
              "    border-color: transparent;\n",
              "    border-bottom-color: var(--fill-color);\n",
              "    animation:\n",
              "      spin 1s steps(1) infinite;\n",
              "  }\n",
              "\n",
              "  @keyframes spin {\n",
              "    0% {\n",
              "      border-color: transparent;\n",
              "      border-bottom-color: var(--fill-color);\n",
              "      border-left-color: var(--fill-color);\n",
              "    }\n",
              "    20% {\n",
              "      border-color: transparent;\n",
              "      border-left-color: var(--fill-color);\n",
              "      border-top-color: var(--fill-color);\n",
              "    }\n",
              "    30% {\n",
              "      border-color: transparent;\n",
              "      border-left-color: var(--fill-color);\n",
              "      border-top-color: var(--fill-color);\n",
              "      border-right-color: var(--fill-color);\n",
              "    }\n",
              "    40% {\n",
              "      border-color: transparent;\n",
              "      border-right-color: var(--fill-color);\n",
              "      border-top-color: var(--fill-color);\n",
              "    }\n",
              "    60% {\n",
              "      border-color: transparent;\n",
              "      border-right-color: var(--fill-color);\n",
              "    }\n",
              "    80% {\n",
              "      border-color: transparent;\n",
              "      border-right-color: var(--fill-color);\n",
              "      border-bottom-color: var(--fill-color);\n",
              "    }\n",
              "    90% {\n",
              "      border-color: transparent;\n",
              "      border-bottom-color: var(--fill-color);\n",
              "    }\n",
              "  }\n",
              "</style>\n",
              "\n",
              "  <script>\n",
              "    async function quickchart(key) {\n",
              "      const quickchartButtonEl =\n",
              "        document.querySelector('#' + key + ' button');\n",
              "      quickchartButtonEl.disabled = true;  // To prevent multiple clicks.\n",
              "      quickchartButtonEl.classList.add('colab-df-spinner');\n",
              "      try {\n",
              "        const charts = await google.colab.kernel.invokeFunction(\n",
              "            'suggestCharts', [key], {});\n",
              "      } catch (error) {\n",
              "        console.error('Error during call to suggestCharts:', error);\n",
              "      }\n",
              "      quickchartButtonEl.classList.remove('colab-df-spinner');\n",
              "      quickchartButtonEl.classList.add('colab-df-quickchart-complete');\n",
              "    }\n",
              "    (() => {\n",
              "      let quickchartButtonEl =\n",
              "        document.querySelector('#df-786796be-5006-4211-9c62-11b80540b275 button');\n",
              "      quickchartButtonEl.style.display =\n",
              "        google.colab.kernel.accessAllowed ? 'block' : 'none';\n",
              "    })();\n",
              "  </script>\n",
              "</div>\n",
              "\n",
              "    </div>\n",
              "  </div>\n"
            ],
            "application/vnd.google.colaboratory.intrinsic+json": {
              "type": "dataframe",
              "variable_name": "df"
            }
          },
          "metadata": {},
          "execution_count": 20
        }
      ],
      "source": [
        "# Lectura de la información de archivo .csv\n",
        "df = pd.read_csv('https://raw.githubusercontent.com/davidzarruk/MIAD_ML_NLP_2023/main/datasets/mashable.csv', index_col=0)\n",
        "df.head()"
      ]
    },
    {
      "cell_type": "code",
      "execution_count": 21,
      "metadata": {
        "colab": {
          "base_uri": "https://localhost:8080/"
        },
        "id": "cyN0rP86LdsX",
        "outputId": "41e01ed9-c784-4ffd-f382-d5468f4faa87"
      },
      "outputs": [
        {
          "output_type": "execute_result",
          "data": {
            "text/plain": [
              "0.5"
            ]
          },
          "metadata": {},
          "execution_count": 21
        }
      ],
      "source": [
        "# Definición variable de interes y variables predictoras\n",
        "X = df.drop(['url', 'Popular'], axis=1)\n",
        "y = df['Popular']\n",
        "y.mean()"
      ]
    },
    {
      "cell_type": "code",
      "execution_count": 22,
      "metadata": {
        "id": "AqIAM_P8LdsX"
      },
      "outputs": [],
      "source": [
        "# División de la muestra en set de entrenamiento y prueba\n",
        "from sklearn.model_selection import train_test_split\n",
        "X_train, X_test, y_train, y_test = train_test_split(X, y, random_state=1)"
      ]
    },
    {
      "cell_type": "markdown",
      "metadata": {
        "id": "FQvFm_sBLdsX"
      },
      "source": [
        "### Punto 6 - Árbol de decisión y regresión logística\n",
        "En la celda 6 construya un árbol de decisión y una regresión logística. Para el árbol calibre al menos un parámetro y evalúe el desempeño de cada modelo usando las métricas de Accuracy y F1-Score."
      ]
    },
    {
      "cell_type": "code",
      "execution_count": 24,
      "metadata": {
        "colab": {
          "base_uri": "https://localhost:8080/",
          "height": 728
        },
        "id": "fvur6yl1LdsX",
        "outputId": "cd1ecd4a-86a8-42b5-dbce-0752667148df"
      },
      "outputs": [
        {
          "output_type": "stream",
          "name": "stdout",
          "text": [
            "Estimando Modelo de Regresión logística\n",
            "Modelo estimado\n",
            "\n",
            "El Acurracy del modelo de regresión logística es 0.6253333333333333\n",
            "El F1-Score para el modelo de regresión logística es 0.6129476584022039\n",
            "\n",
            "\n",
            "Estimando Modelo de Árbol\n",
            "Modelo estimado\n",
            "\n",
            "Calibracion del parametro max_depth para el modelo de Árbol\n"
          ]
        },
        {
          "output_type": "display_data",
          "data": {
            "text/plain": [
              "<Figure size 640x480 with 1 Axes>"
            ],
            "image/png": "[encoded data removed]"
          },
          "metadata": {}
        },
        {
          "output_type": "stream",
          "name": "stdout",
          "text": [
            "La maxima profundidad del arbol que tiene el mayor Accuracy es: 2\n",
            "\n",
            "El Acurracy del árbol calibrado es 0.6308888888888888\n",
            "\n",
            "El F1-Score para el modelo de árbol es 0.6448598130841121\n"
          ]
        }
      ],
      "source": [
        "# Celda 6\n",
        "# Regresión logistica\n",
        "print(\"Estimando Modelo de Regresión logística\")\n",
        "\n",
        "clfRegLog= LogisticRegression(random_state=0,max_iter=10000) # Generar un modelo\n",
        "clfRegLog.fit(X_train,y_train) #Estimar el modelo\n",
        "y_predReglog = clfRegLog.predict(X_test) #Predecir con el modelo de regresion logistica\n",
        "print(\"Modelo estimado\")\n",
        "print(\"\")\n",
        "print(\"El Acurracy del modelo de regresión logística es \" +  str(metrics.accuracy_score(y_predReglog, y_test)))\n",
        "print(\"El F1-Score para el modelo de regresión logística es \"+ str(metrics.f1_score(y_predReglog, y_test)))\n",
        "print(\"\\n\")\n",
        "\n",
        "##  Tree\n",
        "max_depth_range = range(1, 21) #Rango de calibracion\n",
        "accuracy_scores = []\n",
        "print(\"Estimando Modelo de Árbol\")\n",
        "# Loop para obtener el desempeño del modelo de acuerdo con la máxima profundidad\n",
        "for depth in max_depth_range:\n",
        "    clf = DecisionTreeClassifier(max_depth=depth, random_state=1)\n",
        "    accuracy_scores.append(cross_val_score(clf, X_train, y_train, cv=10, scoring=\"accuracy\").mean())\n",
        "print(\"Modelo estimado\")\n",
        "print(\"\")\n",
        "print(\"Calibracion del parametro max_depth para el modelo de Árbol\")\n",
        "# Gráfica max_depth versus RMSE (error del modelo)\n",
        "plt.plot(max_depth_range, accuracy_scores)\n",
        "plt.xlabel('max_depth')\n",
        "plt.ylabel('Accuracy')\n",
        "plt.show()\n",
        "# Mejor accuracy (desempeño del modelo) y su correspondiente max_depth\n",
        "print(\"La maxima profundidad del arbol que tiene el mayor Accuracy es: \" +  str(sorted(zip(accuracy_scores, max_depth_range))[::-1][0][1]))\n",
        "print(\"\")\n",
        "print(\"El Acurracy del árbol calibrado es \" +  str(sorted(zip(accuracy_scores, max_depth_range))[::-1][0][0]))\n",
        "print(\"\")\n",
        "#Predecir la variable y con el arbol de desicion calibrado\n",
        "y_predTree = DecisionTreeClassifier(max_depth= sorted(zip(accuracy_scores, max_depth_range))[::-1][0][1] , random_state=1).fit(X, y).predict(X_test)\n",
        "print(\"El F1-Score para el modelo de árbol es \"+ str(metrics.f1_score(y_predTree, y_test)))"
      ]
    },
    {
      "cell_type": "markdown",
      "source": [
        "**Análisis Celda 6 Árbol de Decisión y Regresión Logística**\n",
        "\n",
        "Se estimaron 2 modelos de clasificación, en primer lugar, se realizó un modelo de regresión logística y posteriormente se estimó un modelo de árbol de decisión.\n",
        "\n",
        "Para el modelo de regresión logística tenemos que sus medidas de desempeño son:\n",
        "\n",
        "*   Acurracy: 0.625\n",
        "*   F1-Score: 0.612\n",
        "\n",
        "Por otro lado, para el modelo árbol de decisión calibrado en una maxima profundidad de 2 tenemos que sus medidas de desempeño son:\n",
        "\n",
        "*   Acurracy: 0.630\n",
        "*   F1-Score: 0.644\n",
        "\n",
        "A partir de estos resultados se puede concluir que para este caso en particular el modelo de árbol de decisión tiene mejor desempeño predictivo que la regresión logística según las métricas Acurracy y F1-Score."
      ],
      "metadata": {
        "id": "qqO4Rw_LhI9C"
      }
    },
    {
      "cell_type": "markdown",
      "metadata": {
        "id": "paKWU1SRLdsX"
      },
      "source": [
        "### Punto 7 - Votación Mayoritaria\n",
        "En la celda 7 elabore un esamble con la metodología de **Votación mayoritaria** compuesto por 300 muestras bagged donde:\n",
        "\n",
        "-las primeras 100 muestras vienen de árboles de decisión donde max_depth tome un valor de su elección\\\n",
        "-las segundas 100 muestras vienen de árboles de decisión donde min_samples_leaf tome un valor de su elección\\\n",
        "-las últimas 100 muestras vienen de regresiones logísticas\n",
        "\n",
        "Evalúe cada uno de los tres modelos de manera independiente utilizando las métricas de Accuracy y F1-Score, luego evalúe el ensamble de modelos y compare los resultados.\n",
        "\n",
        "Nota:\n",
        "\n",
        "Para este ensamble de 300 modelos, deben hacer votación mayoritaria. Esto lo pueden hacer de distintas maneras. La más \"fácil\" es haciendo la votación \"manualmente\", como se hace a partir del minuto 5:45 del video de Ejemplo práctico de emsablajes en Coursera. Digo que es la más fácil porque si hacen la votación mayoritaria sobre las 300 predicciones van a obtener lo que se espera.\n",
        "\n",
        "Otra opción es: para cada uno de los 3 tipos de modelos, entrenar un ensamble de 100 modelos cada uno. Predecir para cada uno de esos tres ensambles y luego predecir como un ensamble de los 3 ensambles. La cuestión es que la votación mayoritaria al usar los 3 ensambles no necesariamente va a generar el mismo resultado que si hacen la votación mayoritaria directamente sobre los 300 modelos. Entonces, para los que quieran hacer esto, deben hacer ese último cálculo con cuidado.\n",
        "\n",
        "Para los que quieran hacerlo como ensamble de ensambles, digo que se debe hacer el ensamble final con cuidado por lo siguiente. Supongamos que:\n",
        "\n",
        "* para los 100 árboles del primer tipo, la votación mayoritaria es: 55% de los modelos predicen que la clase de una observación es \"1\"\n",
        "* para los 100 árboles del segundo tipo, la votación mayoritaria es: 55% de los modelos predicen que la clase de una observación es \"1\"\n",
        "* para las 100 regresiones logísticas, la votación mayoritaria es: 10% de los modelos predicen que la clase de una observación es \"1\"\n",
        "\n",
        "Si se hace la votación mayoritaria de los 300 modelos, la predicción de esa observación debería ser: (100*55%+100*55%+100*10%)/300 = 40% de los modelos votan porque la predicción debería ser \"1\". Es decir, la predicción del ensamble es \"0\" (dado que menos del 50% de modelos predijo un 1).\n",
        "\n",
        "Sin embargo, si miramos cada ensamble por separado, el primer ensamble predice \"1\", el segundo ensamble predice \"1\" y el último ensamble predice \"0\". Si hago votación mayoritaria sobre esto, la predicción va a ser \"1\", lo cual es distinto a si se hace la votación mayoritaria sobre los 300 modelos."
      ]
    },
    {
      "cell_type": "code",
      "execution_count": 27,
      "metadata": {
        "colab": {
          "base_uri": "https://localhost:8080/"
        },
        "id": "9jebYRexLdsY",
        "outputId": "80fe07e7-7127-4c26-8335-71f917aca4e5"
      },
      "outputs": [
        {
          "output_type": "stream",
          "name": "stdout",
          "text": [
            "Entrenamos modelo Tree Depth = None\n",
            "Modelo Entrenado\n",
            "\n",
            "El F1-Score y el Acurracy del modelo bagging de Árbol con MaxDepth = None son respectivamente\n",
            "0.6626262626262627 0.666\n",
            "\n",
            "\n",
            "Entrenamos modelo Tree Leaf = 10\n",
            "Modelo Entrenado\n",
            "\n",
            "El F1-Score y el Acurracy del modelo bagging de Árbol con MinSamplesLeaf = 10 son respectivamente\n",
            "0.6653306613226453 0.666\n",
            "\n",
            "\n",
            "Entrenamos modelo Reg Logística\n",
            "Modelo Entrenado\n",
            "\n",
            "El F1-Score y el Acurracy del modelo Reg Logística son respectivamente\n",
            "0.6162235855487389 0.6246666666666667\n"
          ]
        }
      ],
      "source": [
        "# Celda 7\n",
        "# Uso de BaggingRegressor de la libreria (sklearn) para estimar los diferentes modelos.\n",
        "bagg100TreeDepthNone = BaggingClassifier(base_estimator = DecisionTreeClassifier(max_depth=None), n_estimators = 100,\n",
        "                          bootstrap=True, oob_score=True , max_samples = 300, random_state=1,n_jobs=-1)\n",
        "\n",
        "bagg100TreeLeaf10 = BaggingClassifier(DecisionTreeClassifier(min_samples_leaf=10), n_estimators = 100,\n",
        "                          bootstrap=True, oob_score=True , max_samples = 300, random_state=1,n_jobs=-1)\n",
        "\n",
        "bagg100RegLog = BaggingClassifier(LogisticRegression(random_state=1,max_iter=1000), n_estimators = 100,\n",
        "                          bootstrap=True, oob_score=True , max_samples = 300, random_state=1,n_jobs=-1)\n",
        "\n",
        "# Entrenemiento de los modelos con set de entrenamiento y predicción en el set de test\n",
        "print(\"Entrenamos modelo Tree Depth = None\")\n",
        "bagg100TreeDepthNone.fit(X_train, y_train)\n",
        "y_predbagg100TreeDepthNone = bagg100TreeDepthNone.predict(X_test)\n",
        "print('Modelo Entrenado')\n",
        "print(\"\")\n",
        "print('El F1-Score y el Acurracy del modelo bagging de Árbol con MaxDepth = None son respectivamente')\n",
        "print(metrics.f1_score(y_predbagg100TreeDepthNone, y_test), metrics.accuracy_score(y_predbagg100TreeDepthNone, y_test))\n",
        "\n",
        "print('\\n')\n",
        "print(\"Entrenamos modelo Tree Leaf = 10\")\n",
        "bagg100TreeLeaf10.fit(X_train, y_train)\n",
        "y_predbagg100TreeLeaf10 = bagg100TreeLeaf10.predict(X_test)\n",
        "print('Modelo Entrenado')\n",
        "print(\"\")\n",
        "print('El F1-Score y el Acurracy del modelo bagging de Árbol con MinSamplesLeaf = 10 son respectivamente')\n",
        "print(metrics.f1_score(y_predbagg100TreeLeaf10, y_test), metrics.accuracy_score(y_predbagg100TreeLeaf10, y_test))\n",
        "\n",
        "print('\\n')\n",
        "print(\"Entrenamos modelo Reg Logística\")\n",
        "bagg100RegLog.fit(X_train, y_train)\n",
        "y_predbagg100RegLog = bagg100RegLog.predict(X_test)\n",
        "print('Modelo Entrenado')\n",
        "print(\"\")\n",
        "print('El F1-Score y el Acurracy del modelo Reg Logística son respectivamente')\n",
        "print(metrics.f1_score(y_predbagg100RegLog, y_test), metrics.accuracy_score(y_predbagg100RegLog, y_test))"
      ]
    },
    {
      "cell_type": "markdown",
      "source": [
        "**Análisis Celda 7 Votación Mayoritaria**\n",
        "\n",
        "Se elaboro un esamble con la metodología de Votación mayoritaria compuesto por 300 muestras bagged donde:\n",
        "\n",
        "*   Las primeras 100 muestras vienen de árboles de decisión donde max_depth = None\n",
        "*   Las segundas 100 muestras vienen de árboles de decisión donde min_samples_leaf = 10\n",
        "*   Las últimas 100 muestras vienen de regresiones logísticas\n",
        "\n",
        "Para el modelo de las primeras 100 muestras vienen de árboles de decisión donde max_depth = None tenemos que sus medidas de desempeño son:\n",
        "\n",
        "*   Acurracy: 0.66\n",
        "*   F1-Score: 0.662\n",
        "\n",
        "Para el modelo de las segundas 100 muestras vienen de árboles de decisión donde min_samples_leaf = 10 tenemos que sus medidas de desempeño son:\n",
        "\n",
        "*   Acurracy: 0.66\n",
        "*   F1-Score: 0.665\n",
        "\n",
        "Para el modelo de Las últimas 100 muestras vienen de regresiones logísticas tenemos que sus medidas de desempeño son:\n",
        "\n",
        "*   Acurracy: 0.61\n",
        "*   F1-Score: 0.62\n",
        "\n",
        "A partir de estos resultados se puede concluir que el modelo de de las segundas 100 muestras vienen de árboles de decisión donde min_samples_leaf = 10 tiene minimamente un mejor desempeño predictivo que los otros dos modelos según las métricas Acurracy y F1-Score."
      ],
      "metadata": {
        "id": "BUUj-XQclSwR"
      }
    },
    {
      "cell_type": "markdown",
      "metadata": {
        "id": "RtXtu8RsLdsY"
      },
      "source": [
        "### Punto 8 - Votación Ponderada\n",
        "En la celda 8 elabore un ensamble con la metodología de **Votación ponderada** compuesto por 300 muestras bagged para los mismos tres escenarios del punto 7. Evalúe los modelos utilizando las métricas de Accuracy y F1-Score"
      ]
    },
    {
      "cell_type": "code",
      "execution_count": 30,
      "metadata": {
        "colab": {
          "base_uri": "https://localhost:8080/"
        },
        "id": "uVb_t-UVLdsY",
        "outputId": "78b5ad62-47b5-4785-c27b-d8e574cc43ad"
      },
      "outputs": [
        {
          "output_type": "stream",
          "name": "stdout",
          "text": [
            "El F1-Score y el Acurracy del modelo bagging de Árbol con MaxDepth = None y votación ponderada son respectivamente\n",
            "0.6640053226879573 0.6633333333333333\n",
            "\n",
            "\n",
            "El F1-Score y el Acurracy del modelo bagging de Árbol con min_samples_leaf = 10 y votación ponderada son respectivamente\n",
            "0.6579849211788896 0.6673333333333333\n",
            "\n",
            "\n",
            "El F1-Score y el Acurracy del modelo regresión logística con votación ponderada son respectivamente\n",
            "0.6141192597669637 0.6246666666666667\n"
          ]
        }
      ],
      "source": [
        "# Celda 8\n",
        "# Votación ponderada para el modelo bagging de Árbol con MaxDepth = None\n",
        "errors = np.zeros(bagg100TreeDepthNone.n_estimators)\n",
        "y_pred_all_ = np.zeros( (X_test.shape[0], bagg100TreeDepthNone.n_estimators) )\n",
        "for i in range(bagg100TreeDepthNone.n_estimators):\n",
        "    oob_sample = ~bagg100TreeDepthNone.estimators_samples_[i]\n",
        "    y_pred_ = bagg100TreeDepthNone.estimators_[i].predict(X_train.values[oob_sample])\n",
        "    errors[i] = metrics.accuracy_score(y_pred_, y_train.values[oob_sample])\n",
        "    y_pred_all_[:, i] = bagg100TreeDepthNone.estimators_[i].predict(X_test)\n",
        "\n",
        "alpha = (1 - errors) / (1 - errors).sum()\n",
        "y_pred = (np.sum(y_pred_all_ * alpha, axis=1) >= 0.5).astype(int)\n",
        "# Metricas con votación ponderada\n",
        "print('El F1-Score y el Acurracy del modelo bagging de Árbol con MaxDepth = None y votación ponderada son respectivamente')\n",
        "print(metrics.f1_score(y_pred, y_test), metrics.accuracy_score(y_pred, y_test))\n",
        "\n",
        "print('\\n')\n",
        "#Votación ponderada para el modelo bagging de Árbol con min_samples_leaf = 10\n",
        "errors = np.zeros(bagg100TreeLeaf10.n_estimators)\n",
        "y_pred_all_ = np.zeros( (X_test.shape[0], bagg100TreeLeaf10.n_estimators) )\n",
        "for i in range(bagg100TreeLeaf10.n_estimators):\n",
        "    oob_sample = ~bagg100TreeLeaf10.estimators_samples_[i]\n",
        "    y_pred_ = bagg100TreeLeaf10.estimators_[i].predict(X_train.values[oob_sample])\n",
        "    errors[i] = metrics.accuracy_score(y_pred_, y_train.values[oob_sample])\n",
        "    y_pred_all_[:, i] = bagg100TreeLeaf10.estimators_[i].predict(X_test)\n",
        "alpha = (1 - errors) / (1 - errors).sum()\n",
        "y_pred = (np.sum(y_pred_all_ * alpha, axis=1) >= 0.5).astype(int)\n",
        "# Metricas con votación ponderada\n",
        "print('El F1-Score y el Acurracy del modelo bagging de Árbol con min_samples_leaf = 10 y votación ponderada son respectivamente')\n",
        "print(metrics.f1_score(y_pred, y_test), metrics.accuracy_score(y_pred, y_test))\n",
        "\n",
        "print('\\n')\n",
        "#Votación ponderada para el modelo Reg Logística\n",
        "errors = np.zeros(bagg100RegLog.n_estimators)\n",
        "y_pred_all_ = np.zeros( (X_test.shape[0], bagg100RegLog.n_estimators) )\n",
        "\n",
        "for i in range(bagg100RegLog.n_estimators):\n",
        "    oob_sample = ~bagg100RegLog.estimators_samples_[i]\n",
        "    y_pred_ = bagg100RegLog.estimators_[i].predict(X_train.values[oob_sample])\n",
        "    errors[i] = metrics.accuracy_score(y_pred_, y_train.values[oob_sample])\n",
        "    y_pred_all_[:, i] = bagg100RegLog.estimators_[i].predict(X_test)\n",
        "alpha = (1 - errors) / (1 - errors).sum()\n",
        "y_pred = (np.sum(y_pred_all_ * alpha, axis=1) >= 0.5).astype(int)\n",
        "# Metricas con votación ponderada\n",
        "print('El F1-Score y el Acurracy del modelo regresión logística con votación ponderada son respectivamente')\n",
        "print(metrics.f1_score(y_pred, y_test), metrics.accuracy_score(y_pred, y_test))"
      ]
    },
    {
      "cell_type": "markdown",
      "source": [
        "**Análisis Celda 8 Votación Ponderada**\n",
        "\n",
        "Se elaboro un esamble con la metodología de Votación ponderada compuesto por 300 muestras bagged donde:\n",
        "\n",
        "*   Las primeras 100 muestras vienen de árboles de decisión donde max_depth = None\n",
        "*   Las segundas 100 muestras vienen de árboles de decisión donde min_samples_leaf = 10\n",
        "*   Las últimas 100 muestras vienen de regresiones logísticas\n",
        "\n",
        "Para el modelo de las primeras 100 muestras vienen de árboles de decisión donde max_depth = None tenemos que sus medidas de desempeño son:\n",
        "\n",
        "*   Acurracy: 0.663\n",
        "*   F1-Score: 0.664\n",
        "\n",
        "Para el modelo de las segundas 100 muestras vienen de árboles de decisión donde min_samples_leaf = 10 tenemos que sus medidas de desempeño son:\n",
        "\n",
        "*   Acurracy: 0.657\n",
        "*   F1-Score: 0.667\n",
        "\n",
        "Para el modelo de Las últimas 100 muestras vienen de regresiones logísticas tenemos que sus medidas de desempeño son:\n",
        "\n",
        "*   Acurracy: 0.624\n",
        "*   F1-Score: 0.614\n",
        "\n",
        "A partir de estos resultados se puede concluir que el modelo de de las primeras 100 muestras vienen de árboles de decisión donde max_depth = None tiene un mejor desempeño predictivo que los otros dos modelos según las métricas Acurracy y F1-Score. De igual forma se observa que las métricas de los diferentes modelos son un poco más diferentes a comparación de la votación mayoritaria."
      ],
      "metadata": {
        "id": "HYar_HeVpxWN"
      }
    },
    {
      "cell_type": "markdown",
      "metadata": {
        "id": "ixhmBCBzLdsY"
      },
      "source": [
        "### Punto 9 - Comparación y análisis de resultados\n",
        "En la celda 9 comente sobre los resultados obtenidos con las metodologías usadas en los puntos 7 y 8, compare los resultados y enuncie posibles ventajas o desventajas de cada una de ellas."
      ]
    },
    {
      "cell_type": "markdown",
      "source": [
        "**Análisis Celda 9 Comparación y Análisis de Resultados**\n",
        "\n",
        "En los puntos 7 y 8 se generaron ensamblajes con distintos tipos de clasificadores. Se utilizaron los siguientes modelos:\n",
        "\n",
        "1. Árboles de decisión donde max_depth = None\n",
        "2. Árboles de decisión donde min_samples_leaf = 10\n",
        "3. Regresión logística\n",
        "\n",
        "Para cada clasificador se generaron 300 muestras a partir de bootstrap. Finalmente, pare realizar la predicción de cada ensamblaje se propuso:\n",
        "\n",
        " **En el punto 7:** Las predicciones se realizaron por el método de **votación mayoritaria**, es decir, se escoge como predicción final aquella clase que tenga la mayoría de las predicciones a su favor. Esto quiere decir que se le da el mismo \"peso\" a todas las predicciones sin importar el error de cada modelo.\n",
        "\n",
        " **En el punto 8:** Las predicciones se hicieron por el método de **votación ponderada**, esto significa que la predicción final depende de una ponderación porcentual de todas las predicciones. Aquellas predicciones que aportan *más* a la predicción final son las que vienen de un modelo con error OOB bajo. De igual manera, las predicciones que *menos* aportan a la predicción final son aquellas que tiene un error OOB mayor.\n",
        "\n",
        "Podemos ver que todas las métricas para cada uno de los 3 ensamblajes están mejorando. Es decir, **la votación ponderada es un mejor método que la votación mayoritaria**. Sin embargo, la mejora en las métricas es pequeña."
      ],
      "metadata": {
        "id": "4--ON3eNrMoD"
      }
    }
  ],
  "metadata": {
    "kernelspec": {
      "display_name": "Python 3 (ipykernel)",
      "language": "python",
      "name": "python3"
    },
    "language_info": {
      "codemirror_mode": {
        "name": "ipython",
        "version": 3
      },
      "file_extension": ".py",
      "mimetype": "text/x-python",
      "name": "python",
      "nbconvert_exporter": "python",
      "pygments_lexer": "ipython3",
      "version": "3.9.12"
    },
    "colab": {
      "provenance": []
    }
  },
  "nbformat": 4,
  "nbformat_minor": 0
}